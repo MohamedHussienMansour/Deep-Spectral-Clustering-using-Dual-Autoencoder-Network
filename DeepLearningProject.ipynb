{
 "cells": [
  {
   "cell_type": "code",
   "execution_count": 4,
   "metadata": {},
   "outputs": [],
   "source": [
    "import tensorflow as tf\n",
    "\n",
    "class DualAutoencoder(tf.keras.Model):\n",
    "  def __init__(self, input_dim, latent_dim, noise_dim):\n",
    "    super(DualAutoencoder, self).__init__()\n",
    "    self.encoder = tf.keras.Sequential([\n",
    "      # Define your encoder architecture here (e.g., dense layers)\n",
    "    ])\n",
    "    self.decoder_clean = tf.keras.Sequential([\n",
    "      # Define your decoder architecture for clean data (e.g., dense layers)\n",
    "    ])\n",
    "    self.decoder_noisy = tf.keras.Sequential([\n",
    "      # Define your decoder architecture for noisy data (e.g., dense layers with noise injection)\n",
    "    ])\n",
    "\n",
    "  def call(self, inputs):\n",
    "    latent = self.encoder(inputs)\n",
    "    clean_recon = self.decoder_clean(latent)\n",
    "    noisy_recon = self.decoder_noisy(latent)\n",
    "    return clean_recon, noisy_recon\n",
    "\n",
    "# ... (rest of the code for training and spectral clustering)\n"
   ]
  },
  {
   "cell_type": "code",
   "execution_count": 5,
   "metadata": {},
   "outputs": [
    {
     "name": "stdout",
     "output_type": "stream",
     "text": [
      "Model: \"dual_autoencoder_1\"\n",
      "_________________________________________________________________\n",
      " Layer (type)                Output Shape              Param #   \n",
      "=================================================================\n",
      " sequential_3 (Sequential)   (None, 64)                242112    \n",
      "                                                                 \n",
      " sequential_4 (Sequential)   (None, 784)               242832    \n",
      "                                                                 \n",
      " sequential_5 (Sequential)   (None, 784)               108752    \n",
      "                                                                 \n",
      "=================================================================\n",
      "Total params: 593,696\n",
      "Trainable params: 593,696\n",
      "Non-trainable params: 0\n",
      "_________________________________________________________________\n"
     ]
    }
   ],
   "source": [
    "import tensorflow as tf\n",
    "\n",
    "class DualAutoencoder(tf.keras.Model):\n",
    "    def __init__(self, input_shape, latent_dim):\n",
    "        super(DualAutoencoder, self).__init__()\n",
    "        self.encoder = tf.keras.Sequential([\n",
    "            tf.keras.layers.InputLayer(input_shape=input_shape),\n",
    "            tf.keras.layers.Dense(256, activation='relu'),\n",
    "            tf.keras.layers.Dense(128, activation='relu'),\n",
    "            tf.keras.layers.Dense(latent_dim, activation='relu')\n",
    "        ])\n",
    "        self.original_decoder = tf.keras.Sequential([\n",
    "            tf.keras.layers.InputLayer(input_shape=latent_dim),\n",
    "            tf.keras.layers.Dense(128, activation='relu'),\n",
    "            tf.keras.layers.Dense(256, activation='relu'),\n",
    "            tf.keras.layers.Dense(input_shape[0], activation='sigmoid')\n",
    "        ])\n",
    "        self.noisy_decoder = tf.keras.Sequential([\n",
    "            tf.keras.layers.InputLayer(input_shape=latent_dim),\n",
    "            tf.keras.layers.Dense(128, activation='relu'),\n",
    "            tf.keras.layers.Dense(256, activation='relu'),\n",
    "            tf.keras.layers.Dense(latent_dim, activation='relu'),  # Adding noise to latent representation\n",
    "            tf.keras.layers.Dense(input_shape[0], activation='sigmoid')\n",
    "        ])\n",
    "\n",
    "    def call(self, inputs):\n",
    "        latent_representation = self.encoder(inputs)\n",
    "        reconstructed_original = self.original_decoder(latent_representation)\n",
    "        reconstructed_noisy = self.noisy_decoder(latent_representation)\n",
    "        return reconstructed_original, reconstructed_noisy\n",
    "\n",
    "# Example usage:\n",
    "input_shape = (784,)  # Example input shape for MNIST data\n",
    "latent_dim = 64  # Example latent dimension\n",
    "dual_autoencoder = DualAutoencoder(input_shape, latent_dim)\n",
    "dual_autoencoder.compile(optimizer='adam', loss='mse')  # Using Mean Squared Error loss for reconstruction\n",
    "dual_autoencoder.build((None, *input_shape))\n",
    "dual_autoencoder.summary()\n",
    "\n"
   ]
  },
  {
   "cell_type": "code",
   "execution_count": 6,
   "metadata": {},
   "outputs": [
    {
     "ename": "ModuleNotFoundError",
     "evalue": "No module named 'torch'",
     "output_type": "error",
     "traceback": [
      "\u001b[1;31m---------------------------------------------------------------------------\u001b[0m",
      "\u001b[1;31mModuleNotFoundError\u001b[0m                       Traceback (most recent call last)",
      "Input \u001b[1;32mIn [6]\u001b[0m, in \u001b[0;36m<cell line: 1>\u001b[1;34m()\u001b[0m\n\u001b[1;32m----> 1\u001b[0m \u001b[38;5;28;01mimport\u001b[39;00m \u001b[38;5;21;01mtorch\u001b[39;00m\u001b[38;5;21;01m.\u001b[39;00m\u001b[38;5;21;01mnn\u001b[39;00m\u001b[38;5;21;01m.\u001b[39;00m\u001b[38;5;21;01mfunctional\u001b[39;00m \u001b[38;5;28;01mas\u001b[39;00m \u001b[38;5;21;01mF\u001b[39;00m\n\u001b[0;32m      3\u001b[0m \u001b[38;5;28;01mclass\u001b[39;00m \u001b[38;5;21;01mDualAutoencoderLoss\u001b[39;00m(nn\u001b[38;5;241m.\u001b[39mModule):\n\u001b[0;32m      4\u001b[0m     \u001b[38;5;28;01mdef\u001b[39;00m \u001b[38;5;21m__init__\u001b[39m(\u001b[38;5;28mself\u001b[39m, reconstruction_weight\u001b[38;5;241m=\u001b[39m\u001b[38;5;241m1.0\u001b[39m, regularization_weight\u001b[38;5;241m=\u001b[39m\u001b[38;5;241m0.001\u001b[39m):\n",
      "\u001b[1;31mModuleNotFoundError\u001b[0m: No module named 'torch'"
     ]
    }
   ],
   "source": [
    "import torch.nn.functional as F\n",
    "\n",
    "class DualAutoencoderLoss(nn.Module):\n",
    "    def __init__(self, reconstruction_weight=1.0, regularization_weight=0.001):\n",
    "        super(DualAutoencoderLoss, self).__init__()\n",
    "        self.reconstruction_weight = reconstruction_weight\n",
    "        self.regularization_weight = regularization_weight\n",
    "\n",
    "    def forward(self, x_original, x_noisy, x_decoded, x_encoded):\n",
    "        # Reconstruction loss (MSE loss between original and decoded inputs)\n",
    "        reconstruction_loss = F.mse_loss(x_decoded, x_original, reduction='mean')\n",
    "\n",
    "        # Regularization loss (e.g., L2 regularization on the encoder weights)\n",
    "        regularization_loss = 0.0\n",
    "        for param in model.encoder.parameters():\n",
    "            regularization_loss += torch.norm(param, p=2)\n",
    "\n",
    "        # Total loss\n",
    "        loss = self.reconstruction_weight * reconstruction_loss + self.regularization_weight * regularization_loss\n",
    "        return loss\n",
    "\n",
    "# Example usage:\n",
    "# criterion = DualAutoencoderLoss()\n",
    "# loss = criterion(x_original, x_noisy, x_decoded, x_encoded)\n",
    "# optimizer.zero_grad()\n",
    "# loss.backward()\n",
    "# optimizer.step()\n"
   ]
  },
  {
   "cell_type": "code",
   "execution_count": null,
   "metadata": {},
   "outputs": [],
   "source": [
    "import numpy as np\n",
    "from sklearn.cluster import KMeans\n",
    "from sklearn.metrics.pairwise import pairwise_distances\n",
    "from scipy.sparse.csgraph import laplacian\n",
    "from scipy.linalg import eigh\n",
    "\n",
    "def spectral_clustering(data, num_clusters):\n",
    "    # Step 1: Compute similarity graph (affinity matrix)\n",
    "    similarity_matrix = pairwise_distances(data, metric='euclidean')\n",
    "    affinity_matrix = np.exp(-similarity_matrix ** 2 / (2.0 * np.std(similarity_matrix) ** 2))\n",
    "    \n",
    "    # Step 2: Compute graph Laplacian\n",
    "    laplacian_matrix = laplacian(affinity_matrix, normed=True)\n",
    "    \n",
    "    # Step 3: Compute eigenvalues and eigenvectors of Laplacian\n",
    "    eigenvalues, eigenvectors = eigh(laplacian_matrix)\n",
    "    \n",
    "    # Step 4: Sort eigenvalues and corresponding eigenvectors\n",
    "    sorted_indices = np.argsort(eigenvalues)\n",
    "    sorted_eigenvectors = eigenvectors[:, sorted_indices]\n",
    "    \n",
    "    # Step 5: Perform K-means clustering on selected eigenvectors\n",
    "    kmeans = KMeans(n_clusters=num_clusters)\n",
    "    cluster_labels = kmeans.fit_predict(sorted_eigenvectors[:, 1:num_clusters+1])  # Exclude the first eigenvector\n",
    "    \n",
    "    return cluster_labels\n",
    "\n",
    "# Example usage:\n",
    "# data: Your data matrix (n_samples x n_features)\n",
    "# num_clusters: Number of clusters\n",
    "# cluster_labels = spectral_clustering(data, num_clusters)\n"
   ]
  },
  {
   "cell_type": "code",
   "execution_count": null,
   "metadata": {},
   "outputs": [],
   "source": []
  }
 ],
 "metadata": {
  "kernelspec": {
   "display_name": "Python 3",
   "language": "python",
   "name": "python3"
  },
  "language_info": {
   "codemirror_mode": {
    "name": "ipython",
    "version": 3
   },
   "file_extension": ".py",
   "mimetype": "text/x-python",
   "name": "python",
   "nbconvert_exporter": "python",
   "pygments_lexer": "ipython3",
   "version": "3.10.6"
  }
 },
 "nbformat": 4,
 "nbformat_minor": 2
}
